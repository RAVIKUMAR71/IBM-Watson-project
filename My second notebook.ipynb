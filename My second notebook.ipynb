{
    "cells": [
        {
            "cell_type": "code",
            "execution_count": 1,
            "metadata": {},
            "outputs": [
                {
                    "data": {
                        "text/html": "<div>\n<style scoped>\n    .dataframe tbody tr th:only-of-type {\n        vertical-align: middle;\n    }\n\n    .dataframe tbody tr th {\n        vertical-align: top;\n    }\n\n    .dataframe thead th {\n        text-align: right;\n    }\n</style>\n<table border=\"1\" class=\"dataframe\">\n  <thead>\n    <tr style=\"text-align: right;\">\n      <th></th>\n      <th>YEAR</th>\n      <th>OPERATOR</th>\n      <th>PAX TO</th>\n      <th>PAX   FROM</th>\n      <th>PAX TOTAL</th>\n      <th>FREIGHT TO</th>\n      <th>FREIGHT FROM</th>\n      <th>FREIGHT TOTAL</th>\n    </tr>\n  </thead>\n  <tbody>\n    <tr>\n      <th>0</th>\n      <td>2005-06</td>\n      <td>INDIAN</td>\n      <td>2944888</td>\n      <td>3204672</td>\n      <td>6149560</td>\n      <td>34876</td>\n      <td>63870</td>\n      <td>98746</td>\n    </tr>\n    <tr>\n      <th>1</th>\n      <td>2005-06</td>\n      <td>FOREIGN</td>\n      <td>6791643</td>\n      <td>7224041</td>\n      <td>14015684</td>\n      <td>293867</td>\n      <td>422266</td>\n      <td>716132</td>\n    </tr>\n    <tr>\n      <th>2</th>\n      <td>2005-06</td>\n      <td>TOTAL</td>\n      <td>9736531</td>\n      <td>10428713</td>\n      <td>20165244</td>\n      <td>328742</td>\n      <td>486136</td>\n      <td>814878</td>\n    </tr>\n    <tr>\n      <th>3</th>\n      <td>2006-07</td>\n      <td>INDIAN</td>\n      <td>3458135</td>\n      <td>3700628</td>\n      <td>7158763</td>\n      <td>41242</td>\n      <td>71800</td>\n      <td>113043</td>\n    </tr>\n    <tr>\n      <th>4</th>\n      <td>2006-07</td>\n      <td>FOREIGN</td>\n      <td>7825833</td>\n      <td>8387088</td>\n      <td>16212921</td>\n      <td>356086</td>\n      <td>457914</td>\n      <td>814000</td>\n    </tr>\n  </tbody>\n</table>\n</div>",
                        "text/plain": "     YEAR  OPERATOR  PAX TO   PAX   FROM  PAX TOTAL  FREIGHT TO  FREIGHT FROM  \\\n0  2005-06   INDIAN  2944888     3204672    6149560       34876         63870   \n1  2005-06  FOREIGN  6791643     7224041   14015684      293867        422266   \n2  2005-06    TOTAL  9736531    10428713   20165244      328742        486136   \n3  2006-07   INDIAN  3458135     3700628    7158763       41242         71800   \n4  2006-07  FOREIGN  7825833     8387088   16212921      356086        457914   \n\n   FREIGHT TOTAL  \n0          98746  \n1         716132  \n2         814878  \n3         113043  \n4         814000  "
                    },
                    "execution_count": 1,
                    "metadata": {},
                    "output_type": "execute_result"
                }
            ],
            "source": "# The code was removed by Watson Studio for sharing."
        },
        {
            "cell_type": "code",
            "execution_count": null,
            "metadata": {},
            "outputs": [],
            "source": ""
        }
    ],
    "metadata": {
        "kernelspec": {
            "display_name": "Python 3.7",
            "language": "python",
            "name": "python3"
        },
        "language_info": {
            "codemirror_mode": {
                "name": "ipython",
                "version": 3
            },
            "file_extension": ".py",
            "mimetype": "text/x-python",
            "name": "python",
            "nbconvert_exporter": "python",
            "pygments_lexer": "ipython3",
            "version": "3.7.9"
        }
    },
    "nbformat": 4,
    "nbformat_minor": 1
}